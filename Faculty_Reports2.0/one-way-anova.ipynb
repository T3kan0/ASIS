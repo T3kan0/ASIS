{
 "cells": [
  {
   "cell_type": "markdown",
   "id": "c841e07e",
   "metadata": {},
   "source": [
    "<center> <font size=\"6\"> <b>One-way Analysis of Variance</b></font> \n",
    "</center>"
   ]
  },
  {
   "cell_type": "markdown",
   "id": "2e86f5a1",
   "metadata": {},
   "source": [
    "<center> <font size=\"6\">One-way ANOVA</font> \n",
    "</center>"
   ]
  },
  {
   "cell_type": "markdown",
   "id": "91b2d12e",
   "metadata": {},
   "source": [
    "<div>\n",
    "<img src =\"one-way-anova-2.png\" style =\"width:0.1px;height:0.2px\"/>\n",
    "</div>"
   ]
  },
  {
   "cell_type": "markdown",
   "id": "215b6c78",
   "metadata": {},
   "source": [
    "The One-Way ANOVA technique is used to determine if there is statistically significant differences between averages of three or more independent groups. Similar to the T-test analysis, the One-Way ANOVA tests a Null hypothesis, which can be represented as:\n",
    "\n",
    "### Null Hypothesis\n",
    "<center> <font size=\"5\"> $H_{0} : \\mu_{1} = \\mu_{2} = \\mu_{3} = ... = \\mu_{i}$</font> \n",
    "</center>\n",
    "- Where $H_{0}$ is the theoretical hypothesis in question i.e, students who attend the A_Step Supplemental Instruction tutorials perform similar to those who do not attend the tutorials and $\\mu_{i}$ represents the calculated averages from the three or more independent groups. For instances, Group <b>A</b>: students that attended 1-4 tutorials, Group <b>B</b>: students that attended at least 5 tutorials and Group <b>C</b>: students that did not attend at all. Refer to the figure above for a visual perspective.\n",
    "\n",
    "Alternatively, it could be that there is statistically significant differences between the mean final marks of at least one group among Groups <b>A-C</b>, which is our Alternative Hypothesis $H_{1}$:\n",
    "<center> <font size=\"5\"> $H_{1} : \\mu_{1} \\neq \\mu_{2} \\neq \\mu_{3} \\neq ... \\neq \\mu_{i}$</font> \n",
    "</center>\n",
    "\n",
    "It must be noted that the One-Way ANOVA method will not point out which group(s) has different mean (final marks) , for that we will employ other methods."
   ]
  },
  {
   "cell_type": "code",
   "execution_count": 1,
   "id": "02b402fc",
   "metadata": {},
   "outputs": [],
   "source": [
    "#pip install pingouin"
   ]
  },
  {
   "cell_type": "code",
   "execution_count": 2,
   "id": "2468f78a",
   "metadata": {},
   "outputs": [],
   "source": [
    "# loading analysis packages\n",
    "\n",
    "# data analysis packages\n",
    "import pandas as pd\n",
    "import numpy as np\n",
    "import scipy.stats as stats\n",
    "from scipy.stats import f_oneway\n",
    "from scipy.stats import pearsonr\n",
    "from sklearn.metrics import r2_score\n",
    "import pyreadr\n",
    "from sklearn.linear_model import LinearRegression\n",
    "from numpy.random import randn\n",
    "from numpy.random import seed\n",
    "import pingouin as pg\n",
    "# data visualization packages\n",
    "import matplotlib.pyplot as plt\n",
    "import seaborn as sbn"
   ]
  },
  {
   "cell_type": "code",
   "execution_count": 3,
   "id": "3a0be62f",
   "metadata": {},
   "outputs": [
    {
     "name": "stdout",
     "output_type": "stream",
     "text": [
      "odict_keys(['GroupedData'])\n",
      "<class 'pandas.core.frame.DataFrame'>\n",
      "RangeIndex: 49329 entries, 0 to 49328\n",
      "Data columns (total 10 columns):\n",
      " #   Column         Non-Null Count  Dtype  \n",
      "---  ------         --------------  -----  \n",
      " 0   Attendee       49329 non-null  int32  \n",
      " 1   Module.Code    49329 non-null  object \n",
      " 2   Campus         49329 non-null  object \n",
      " 3   FACULTY        49329 non-null  object \n",
      " 4   GR_12_ADSCORE  49329 non-null  object \n",
      " 5   FINAL.MARK     49329 non-null  int32  \n",
      " 6   Tutor.Type     49329 non-null  object \n",
      " 7   freq           49329 non-null  float64\n",
      " 8   Term           49329 non-null  object \n",
      " 9   success        49329 non-null  float64\n",
      "dtypes: float64(2), int32(2), object(6)\n",
      "memory usage: 3.4+ MB\n"
     ]
    }
   ],
   "source": [
    "# loading student data\n",
    "r_dt = pyreadr.read_r('complete_data.RData')\n",
    "# objects\n",
    "print(r_dt.keys()) # let's check what objects we got\n",
    "df = r_dt['GroupedData'] # csv\n",
    "df.info()"
   ]
  },
  {
   "cell_type": "markdown",
   "id": "f5ec1486",
   "metadata": {},
   "source": [
    "Separating student data based on tutorial attenance. We are looking to create the three Groups <b>A-C</b>:\n",
    "\n",
    "- Group <b>A</b>: students that attended 1-4 tutorials.\n",
    "- Group <b>B</b>: students that attended at least 5 tutorials.\n",
    "- Group <b>C</b>: students that did not attended any tutorials."
   ]
  },
  {
   "cell_type": "code",
   "execution_count": 4,
   "id": "cbe0d0a0",
   "metadata": {},
   "outputs": [
    {
     "data": {
      "text/html": [
       "<div>\n",
       "<style scoped>\n",
       "    .dataframe tbody tr th:only-of-type {\n",
       "        vertical-align: middle;\n",
       "    }\n",
       "\n",
       "    .dataframe tbody tr th {\n",
       "        vertical-align: top;\n",
       "    }\n",
       "\n",
       "    .dataframe thead th {\n",
       "        text-align: right;\n",
       "    }\n",
       "</style>\n",
       "<table border=\"1\" class=\"dataframe\">\n",
       "  <thead>\n",
       "    <tr style=\"text-align: right;\">\n",
       "      <th></th>\n",
       "      <th>Attendee</th>\n",
       "      <th>Module.Code</th>\n",
       "      <th>Campus</th>\n",
       "      <th>FACULTY</th>\n",
       "      <th>GR_12_ADSCORE</th>\n",
       "      <th>FINAL.MARK</th>\n",
       "      <th>Tutor.Type</th>\n",
       "      <th>freq</th>\n",
       "      <th>Term</th>\n",
       "      <th>success</th>\n",
       "    </tr>\n",
       "  </thead>\n",
       "  <tbody>\n",
       "    <tr>\n",
       "      <th>0</th>\n",
       "      <td>1984084838</td>\n",
       "      <td>EECF1614</td>\n",
       "      <td>MAIN</td>\n",
       "      <td>ECONOMIC AND MANAGEMENT SCIENCES</td>\n",
       "      <td>0</td>\n",
       "      <td>73</td>\n",
       "      <td>NOR</td>\n",
       "      <td>5.0</td>\n",
       "      <td>SEM1</td>\n",
       "      <td>1.0</td>\n",
       "    </tr>\n",
       "    <tr>\n",
       "      <th>1</th>\n",
       "      <td>1984084838</td>\n",
       "      <td>EECF1624</td>\n",
       "      <td>MAIN</td>\n",
       "      <td>ECONOMIC AND MANAGEMENT SCIENCES</td>\n",
       "      <td>0</td>\n",
       "      <td>85</td>\n",
       "      <td>NOR</td>\n",
       "      <td>4.0</td>\n",
       "      <td>SEM2</td>\n",
       "      <td>1.0</td>\n",
       "    </tr>\n",
       "    <tr>\n",
       "      <th>2</th>\n",
       "      <td>1986413316</td>\n",
       "      <td>HLAP2614</td>\n",
       "      <td>MAIN</td>\n",
       "      <td>HUMANITIES</td>\n",
       "      <td>0</td>\n",
       "      <td>88</td>\n",
       "      <td>NOR</td>\n",
       "      <td>5.0</td>\n",
       "      <td>SEM1</td>\n",
       "      <td>1.0</td>\n",
       "    </tr>\n",
       "    <tr>\n",
       "      <th>3</th>\n",
       "      <td>1991296342</td>\n",
       "      <td>HKGK2614</td>\n",
       "      <td>MAIN</td>\n",
       "      <td>HUMANITIES</td>\n",
       "      <td>0</td>\n",
       "      <td>71</td>\n",
       "      <td>NOR</td>\n",
       "      <td>3.0</td>\n",
       "      <td>SEM1</td>\n",
       "      <td>1.0</td>\n",
       "    </tr>\n",
       "    <tr>\n",
       "      <th>4</th>\n",
       "      <td>1991296342</td>\n",
       "      <td>HKGK2724</td>\n",
       "      <td>MAIN</td>\n",
       "      <td>HUMANITIES</td>\n",
       "      <td>0</td>\n",
       "      <td>66</td>\n",
       "      <td>NOR</td>\n",
       "      <td>5.0</td>\n",
       "      <td>SEM2</td>\n",
       "      <td>1.0</td>\n",
       "    </tr>\n",
       "  </tbody>\n",
       "</table>\n",
       "</div>"
      ],
      "text/plain": [
       "     Attendee Module.Code Campus                           FACULTY  \\\n",
       "0  1984084838    EECF1614   MAIN  ECONOMIC AND MANAGEMENT SCIENCES   \n",
       "1  1984084838    EECF1624   MAIN  ECONOMIC AND MANAGEMENT SCIENCES   \n",
       "2  1986413316    HLAP2614   MAIN                        HUMANITIES   \n",
       "3  1991296342    HKGK2614   MAIN                        HUMANITIES   \n",
       "4  1991296342    HKGK2724   MAIN                        HUMANITIES   \n",
       "\n",
       "  GR_12_ADSCORE  FINAL.MARK Tutor.Type  freq  Term  success  \n",
       "0             0          73        NOR   5.0  SEM1      1.0  \n",
       "1             0          85        NOR   4.0  SEM2      1.0  \n",
       "2             0          88        NOR   5.0  SEM1      1.0  \n",
       "3             0          71        NOR   3.0  SEM1      1.0  \n",
       "4             0          66        NOR   5.0  SEM2      1.0  "
      ]
     },
     "execution_count": 4,
     "metadata": {},
     "output_type": "execute_result"
    }
   ],
   "source": [
    "df.head()"
   ]
  },
  {
   "cell_type": "code",
   "execution_count": 5,
   "id": "b9ccc6a5",
   "metadata": {},
   "outputs": [
    {
     "name": "stdout",
     "output_type": "stream",
     "text": [
      "Enter the faculty of interest:ECONOMIC AND MANAGEMENT SCIENCES\n",
      "Enter the term of interest:SEM1\n",
      "Enter the code of the modil of interest:EECF1614\n"
     ]
    },
    {
     "data": {
      "text/html": [
       "<div>\n",
       "<style scoped>\n",
       "    .dataframe tbody tr th:only-of-type {\n",
       "        vertical-align: middle;\n",
       "    }\n",
       "\n",
       "    .dataframe tbody tr th {\n",
       "        vertical-align: top;\n",
       "    }\n",
       "\n",
       "    .dataframe thead th {\n",
       "        text-align: right;\n",
       "    }\n",
       "</style>\n",
       "<table border=\"1\" class=\"dataframe\">\n",
       "  <thead>\n",
       "    <tr style=\"text-align: right;\">\n",
       "      <th></th>\n",
       "      <th>Attendee</th>\n",
       "      <th>Module.Code</th>\n",
       "      <th>Campus</th>\n",
       "      <th>FACULTY</th>\n",
       "      <th>GR_12_ADSCORE</th>\n",
       "      <th>FINAL.MARK</th>\n",
       "      <th>Tutor.Type</th>\n",
       "      <th>freq</th>\n",
       "      <th>Term</th>\n",
       "      <th>success</th>\n",
       "    </tr>\n",
       "  </thead>\n",
       "  <tbody>\n",
       "    <tr>\n",
       "      <th>0</th>\n",
       "      <td>1984084838</td>\n",
       "      <td>EECF1614</td>\n",
       "      <td>MAIN</td>\n",
       "      <td>ECONOMIC AND MANAGEMENT SCIENCES</td>\n",
       "      <td>0</td>\n",
       "      <td>73</td>\n",
       "      <td>NOR</td>\n",
       "      <td>5.0</td>\n",
       "      <td>SEM1</td>\n",
       "      <td>1.0</td>\n",
       "    </tr>\n",
       "    <tr>\n",
       "      <th>8</th>\n",
       "      <td>1996473417</td>\n",
       "      <td>EECF1614</td>\n",
       "      <td>MAIN</td>\n",
       "      <td>ECONOMIC AND MANAGEMENT SCIENCES</td>\n",
       "      <td>24</td>\n",
       "      <td>50</td>\n",
       "      <td>NOR</td>\n",
       "      <td>4.0</td>\n",
       "      <td>SEM1</td>\n",
       "      <td>1.0</td>\n",
       "    </tr>\n",
       "    <tr>\n",
       "      <th>28</th>\n",
       "      <td>2003002827</td>\n",
       "      <td>EECF1614</td>\n",
       "      <td>MAIN</td>\n",
       "      <td>ECONOMIC AND MANAGEMENT SCIENCES</td>\n",
       "      <td>44</td>\n",
       "      <td>79</td>\n",
       "      <td>NOR</td>\n",
       "      <td>7.0</td>\n",
       "      <td>SEM1</td>\n",
       "      <td>1.0</td>\n",
       "    </tr>\n",
       "    <tr>\n",
       "      <th>38</th>\n",
       "      <td>2004184715</td>\n",
       "      <td>EECF1614</td>\n",
       "      <td>MAIN</td>\n",
       "      <td>ECONOMIC AND MANAGEMENT SCIENCES</td>\n",
       "      <td>36</td>\n",
       "      <td>87</td>\n",
       "      <td>NOR</td>\n",
       "      <td>8.0</td>\n",
       "      <td>SEM1</td>\n",
       "      <td>1.0</td>\n",
       "    </tr>\n",
       "    <tr>\n",
       "      <th>82</th>\n",
       "      <td>2007009281</td>\n",
       "      <td>EECF1614</td>\n",
       "      <td>MAIN</td>\n",
       "      <td>ECONOMIC AND MANAGEMENT SCIENCES</td>\n",
       "      <td>50</td>\n",
       "      <td>46</td>\n",
       "      <td>NOR</td>\n",
       "      <td>4.0</td>\n",
       "      <td>SEM1</td>\n",
       "      <td>0.0</td>\n",
       "    </tr>\n",
       "    <tr>\n",
       "      <th>...</th>\n",
       "      <td>...</td>\n",
       "      <td>...</td>\n",
       "      <td>...</td>\n",
       "      <td>...</td>\n",
       "      <td>...</td>\n",
       "      <td>...</td>\n",
       "      <td>...</td>\n",
       "      <td>...</td>\n",
       "      <td>...</td>\n",
       "      <td>...</td>\n",
       "    </tr>\n",
       "    <tr>\n",
       "      <th>48626</th>\n",
       "      <td>2016415438</td>\n",
       "      <td>EECF1614</td>\n",
       "      <td>MAIN</td>\n",
       "      <td>ECONOMIC AND MANAGEMENT SCIENCES</td>\n",
       "      <td>36</td>\n",
       "      <td>54</td>\n",
       "      <td>NOR</td>\n",
       "      <td>0.0</td>\n",
       "      <td>SEM1</td>\n",
       "      <td>1.0</td>\n",
       "    </tr>\n",
       "    <tr>\n",
       "      <th>48676</th>\n",
       "      <td>2016416857</td>\n",
       "      <td>EECF1614</td>\n",
       "      <td>MAIN</td>\n",
       "      <td>ECONOMIC AND MANAGEMENT SCIENCES</td>\n",
       "      <td>31</td>\n",
       "      <td>66</td>\n",
       "      <td>NOR</td>\n",
       "      <td>0.0</td>\n",
       "      <td>SEM1</td>\n",
       "      <td>1.0</td>\n",
       "    </tr>\n",
       "    <tr>\n",
       "      <th>48934</th>\n",
       "      <td>2016426294</td>\n",
       "      <td>EECF1614</td>\n",
       "      <td>MAIN</td>\n",
       "      <td>ECONOMIC AND MANAGEMENT SCIENCES</td>\n",
       "      <td>34</td>\n",
       "      <td>78</td>\n",
       "      <td>NOR</td>\n",
       "      <td>0.0</td>\n",
       "      <td>SEM1</td>\n",
       "      <td>1.0</td>\n",
       "    </tr>\n",
       "    <tr>\n",
       "      <th>49210</th>\n",
       "      <td>2016437234</td>\n",
       "      <td>EECF1614</td>\n",
       "      <td>MAIN</td>\n",
       "      <td>ECONOMIC AND MANAGEMENT SCIENCES</td>\n",
       "      <td>35</td>\n",
       "      <td>64</td>\n",
       "      <td>NOR</td>\n",
       "      <td>0.0</td>\n",
       "      <td>SEM1</td>\n",
       "      <td>1.0</td>\n",
       "    </tr>\n",
       "    <tr>\n",
       "      <th>49216</th>\n",
       "      <td>2016437465</td>\n",
       "      <td>EECF1614</td>\n",
       "      <td>QWA</td>\n",
       "      <td>ECONOMIC AND MANAGEMENT SCIENCES</td>\n",
       "      <td>30</td>\n",
       "      <td>5</td>\n",
       "      <td>NOR</td>\n",
       "      <td>0.0</td>\n",
       "      <td>SEM1</td>\n",
       "      <td>0.0</td>\n",
       "    </tr>\n",
       "  </tbody>\n",
       "</table>\n",
       "<p>1035 rows × 10 columns</p>\n",
       "</div>"
      ],
      "text/plain": [
       "         Attendee Module.Code Campus                           FACULTY  \\\n",
       "0      1984084838    EECF1614   MAIN  ECONOMIC AND MANAGEMENT SCIENCES   \n",
       "8      1996473417    EECF1614   MAIN  ECONOMIC AND MANAGEMENT SCIENCES   \n",
       "28     2003002827    EECF1614   MAIN  ECONOMIC AND MANAGEMENT SCIENCES   \n",
       "38     2004184715    EECF1614   MAIN  ECONOMIC AND MANAGEMENT SCIENCES   \n",
       "82     2007009281    EECF1614   MAIN  ECONOMIC AND MANAGEMENT SCIENCES   \n",
       "...           ...         ...    ...                               ...   \n",
       "48626  2016415438    EECF1614   MAIN  ECONOMIC AND MANAGEMENT SCIENCES   \n",
       "48676  2016416857    EECF1614   MAIN  ECONOMIC AND MANAGEMENT SCIENCES   \n",
       "48934  2016426294    EECF1614   MAIN  ECONOMIC AND MANAGEMENT SCIENCES   \n",
       "49210  2016437234    EECF1614   MAIN  ECONOMIC AND MANAGEMENT SCIENCES   \n",
       "49216  2016437465    EECF1614    QWA  ECONOMIC AND MANAGEMENT SCIENCES   \n",
       "\n",
       "      GR_12_ADSCORE  FINAL.MARK Tutor.Type  freq  Term  success  \n",
       "0                 0          73        NOR   5.0  SEM1      1.0  \n",
       "8                24          50        NOR   4.0  SEM1      1.0  \n",
       "28               44          79        NOR   7.0  SEM1      1.0  \n",
       "38               36          87        NOR   8.0  SEM1      1.0  \n",
       "82               50          46        NOR   4.0  SEM1      0.0  \n",
       "...             ...         ...        ...   ...   ...      ...  \n",
       "48626            36          54        NOR   0.0  SEM1      1.0  \n",
       "48676            31          66        NOR   0.0  SEM1      1.0  \n",
       "48934            34          78        NOR   0.0  SEM1      1.0  \n",
       "49210            35          64        NOR   0.0  SEM1      1.0  \n",
       "49216            30           5        NOR   0.0  SEM1      0.0  \n",
       "\n",
       "[1035 rows x 10 columns]"
      ]
     },
     "execution_count": 5,
     "metadata": {},
     "output_type": "execute_result"
    }
   ],
   "source": [
    "# data selection\n",
    "fac = input('Enter the faculty of interest:') # name of the faculty\n",
    "term = input('Enter the term of interest:') # the semester\n",
    "mod = input('Enter the code of the modil of interest:') # the module code\n",
    "\n",
    "def dataSelector(fac, term, mod):\n",
    "    \n",
    "    fuc = df.loc[lambda df: (df['FACULTY'] == fac) & (df['Term'] == term)] # data based on the selected faculty & semester\n",
    "    modCode = fuc.loc[lambda fuc: fuc['Module.Code'] == mod] # data based on module code\n",
    "    return modCode\n",
    "dt = dataSelector(fac, term, mod)\n",
    "dt"
   ]
  },
  {
   "cell_type": "code",
   "execution_count": 6,
   "id": "7032be7b",
   "metadata": {},
   "outputs": [
    {
     "name": "stdout",
     "output_type": "stream",
     "text": [
      "Out of a total of 1830 students enrolled for the module EECF1614, 19 attended at least 80% of the A_Step Supplemental Instruction tutorials, while 776 attended at most 80% and 1035 did not attend any of the tutorials.\n"
     ]
    }
   ],
   "source": [
    "att_max = dt['freq'].max()\n",
    "att_min = dt['freq'].min()\n",
    "thresh = 0.8*att_max\n",
    "# knowing the distribution of our attendance, we can create our three groups of interest.\n",
    "#df = df.sort_values(by = 'absences')\n",
    "\n",
    "grpA = dt.loc[lambda dt: dt['freq'] >= thresh]\n",
    "grpC = dt.loc[lambda dt: dt['freq'] >= att_min]\n",
    "grpB = dt.loc[lambda dt: (dt['freq'] > 0) & (dt['freq'] < thresh)]\n",
    "grpA_avg, grpB_avg, grpC_avg = np.average(grpA['FINAL.MARK']), np.average(grpB['FINAL.MARK']), np.average(grpC['FINAL.MARK'])\n",
    "nA, nB, nC = len(grpA), len(grpB), len(grpC)\n",
    "nS = nA + nB + nC\n",
    "stuff_in_string = ('Out of a total of {} students enrolled for the module ' + mod + ', {} attended at least 80% of the A_Step Supplemental Instruction tutorials, while {} attended at most 80% and {} did not attend any of the tutorials.').format(nS, nA, nB, nC)\n",
    "print(stuff_in_string)"
   ]
  },
  {
   "cell_type": "code",
   "execution_count": 7,
   "id": "bfbedd93",
   "metadata": {},
   "outputs": [
    {
     "data": {
      "text/plain": [
       "Text(0.5, 1.0, 'Student Final Marks Per Independent Group')"
      ]
     },
     "execution_count": 7,
     "metadata": {},
     "output_type": "execute_result"
    },
    {
     "data": {
      "image/png": "[encoded data removed]",
      "text/plain": [
       "<Figure size 432x288 with 1 Axes>"
      ]
     },
     "metadata": {
      "needs_background": "light"
     },
     "output_type": "display_data"
    }
   ],
   "source": [
    "GroupAVG_final_marks = {'Group A': grpA['FINAL.MARK'], 'Group B': grpB['FINAL.MARK'], 'Group C': grpC['FINAL.MARK']}\n",
    "\n",
    "dF = pd.DataFrame.from_dict(data = GroupAVG_final_marks)\n",
    "a,b,c = [1,grpA_avg],[2, grpB_avg],[3, grpC_avg]\n",
    "ABx_values = [a[0], b[0]]\n",
    "ABy_values = [a[1], b[1]]\n",
    "BCx_values = [b[0], c[0]]\n",
    "BCy_values = [b[1], c[1]]\n",
    "plt.plot(ABx_values, ABy_values, 'r-', linewidth=1.0)\n",
    "plt.plot(BCx_values, BCy_values, 'r-', linewidth=1.0) \n",
    "dF.boxplot(grid=False, showmeans=True)\n",
    "plt.ylabel('Final Marks (%)')\n",
    "plt.text(x=1.2,y=grpA_avg,s = '%.2f'%grpA_avg+'%', fontsize=10)\n",
    "plt.text(x=2.2,y=grpB_avg,s = '%.2f'%grpB_avg+'%', fontsize=10)\n",
    "plt.text(x=3.2,y=grpC_avg,s = '%.2f'%grpC_avg+'%', fontsize=10)\n",
    "plt.title('Student Final Marks Per Independent Group')"
   ]
  },
  {
   "cell_type": "code",
   "execution_count": 8,
   "id": "ab8edc5e",
   "metadata": {},
   "outputs": [
    {
     "name": "stdout",
     "output_type": "stream",
     "text": [
      "F-stat: 82.829 \n",
      " p-value: 3.7E-35\n"
     ]
    }
   ],
   "source": [
    "# Conduct the one-way ANOVA\n",
    "f_stat, p = f_oneway(grpA['freq'], grpB['freq'], grpC['freq'])\n",
    "print('F-stat: %.3f' % f_stat, '\\n',\n",
    "     'p-value: %.1E' % p)"
   ]
  },
  {
   "cell_type": "markdown",
   "id": "abe87842",
   "metadata": {},
   "source": [
    "The One-Way ANOVA relies on the F-statistic technique for comparing variances of two samples (groups). The F-test value can be determined with:\n",
    "\n",
    "<center> <font size=\"5\"> $F_{stat} = \\frac{s_{1}^{2}}{s_{2}^{2}}$</font> \n",
    "</center>\n",
    "\n",
    "- where $S_{i}^{2}$ represents the variance of group A and B respectively.\n",
    "\n",
    "If the variances of the two samples are equal $F_{stat}$ will equal 1, hence confirming the Null Hypothesis. Therefore if $F_{stat} \\sim 1$ then the Null Hypothesis is true, while for samples with $F_{stat} > 1$ the Null Hypothesis is rejected. The p-value informs us about the probability of observing mean differences IF the Null Hypothesis is true, therefore if p-value > 0.05, the Null Hypothesis is accepted and vice-versa."
   ]
  },
  {
   "cell_type": "code",
   "execution_count": 9,
   "id": "5c86791b",
   "metadata": {},
   "outputs": [
    {
     "name": "stdout",
     "output_type": "stream",
     "text": [
      "The Multi-sample F-statistic determined is F-stat: 82.829 .The calculated p-value: 3.7E-35 ,is less than 0.05 therefore we reject the Null Hypothesis.\n"
     ]
    }
   ],
   "source": [
    "if p > 0.05:\n",
    "    print('The Multi-sample F-statistic determined is F-stat: %.3f' % f_stat, '.The calculated p-value: %.1E' % p, ',is greater than 0.05 therefore we accept the Null Hypothesis.')\n",
    "elif p < 0.05:\n",
    "    print('The Multi-sample F-statistic determined is F-stat: %.3f' % f_stat, '.The calculated p-value: %.1E' % p, ',is less than 0.05 therefore we reject the Null Hypothesis.')\n",
    "if f_stat == 1:\n",
    "    print('The Multi-sample F-statistic determined is F-stat: %.3f' % f_stat, ',is equal to 1.0 therefore we accept the Null Hypothesis.')\n"
   ]
  },
  {
   "cell_type": "code",
   "execution_count": 10,
   "id": "08324b99",
   "metadata": {},
   "outputs": [
    {
     "name": "stdout",
     "output_type": "stream",
     "text": [
      "eta2: 1.000\n"
     ]
    }
   ],
   "source": [
    "# eta^2 calculation\n",
    "\n",
    "eta2 = f_stat**2 / (1 + f_stat**2)\n",
    "eta2\n",
    "print('eta2: %.3f' % eta2)"
   ]
  },
  {
   "cell_type": "markdown",
   "id": "7757a9ee",
   "metadata": {},
   "source": [
    "### Eta-Squared or Effect Size ( $\\eta^{2}$ ) in a One-Way ANOVA\n",
    "$\\eta^{2}$ is a measure of effect size in One-way ANOVA. It can be interpreted as follows:\n",
    "\n",
    "- $\\eta^{2}$ is $\\sim$ 0.1: Small effect size\n",
    "- $\\eta^{2}$ is $\\sim$ 0.6: Medium effect size\n",
    "- $\\eta^{2}$ is $\\geq$ 0.14: Large effect size"
   ]
  },
  {
   "cell_type": "code",
   "execution_count": 11,
   "id": "5cf1aff2",
   "metadata": {},
   "outputs": [
    {
     "name": "stdout",
     "output_type": "stream",
     "text": [
      "An effect size was calculated, and a large effect is found: 1.000\n"
     ]
    }
   ],
   "source": [
    "if eta2 <= 0.1:\n",
    "    print('An effect size was calculated, and a small effect is found: %.3f' % eta2 )\n",
    "elif 0.1 < eta2 <= 0.6:\n",
    "    print('An effect size was calculated, and a medium effect is found: %.3f' % eta2 )\n",
    "elif 0.6 < eta2 <= 0.14:\n",
    "    print('An effect size was calculated, and an intermedium effect is found: %.3f' % eta2 )\n",
    "elif eta2 > 0.14:\n",
    "    print('An effect size was calculated, and a large effect is found: %.3f' % eta2 )"
   ]
  },
  {
   "cell_type": "markdown",
   "id": "a5877adf",
   "metadata": {},
   "source": [
    "### Determination Coefficient or $R^2$.\n",
    "\n",
    "The determination coefficient is an outcome of linear regression between two or more independent parameters. Also known as $R^{2}$, this tells us what percentages of the dependent parameter's variability is explained by variability in the independent parameter. Therefore for samples with large $R^{2}$, the Null Hypothesis is rejected. For samples with similar averages, $R^{2}$ is always zero.\n",
    "\n",
    "<center> <font size=\"5\"> $R^{2} =  1 - \\frac{SS_{res}}{SS_{tot}}$</font> \n",
    "</center>\n",
    "\n",
    "- where $SS_{res}$ is the sum of squares of the residual errors.\n",
    "- where $SS_{tot}$ is the total sum of the errors."
   ]
  },
  {
   "cell_type": "code",
   "execution_count": 12,
   "id": "8d252424",
   "metadata": {},
   "outputs": [
    {
     "data": {
      "text/plain": [
       "Text(0.5, 0, 'Attendance')"
      ]
     },
     "execution_count": 12,
     "metadata": {},
     "output_type": "execute_result"
    },
    {
     "data": {
      "image/png": "[encoded data removed]",
      "text/plain": [
       "<Figure size 432x288 with 1 Axes>"
      ]
     },
     "metadata": {
      "needs_background": "light"
     },
     "output_type": "display_data"
    }
   ],
   "source": [
    "# Calculating (R^2) or the Determination Coefficient\n",
    "plt.scatter(dt['freq'], dt['FINAL.MARK'])\n",
    "plt.ylabel('Final Mark')\n",
    "plt.xlabel('Attendance')"
   ]
  },
  {
   "cell_type": "code",
   "execution_count": 13,
   "id": "5e5c9380",
   "metadata": {},
   "outputs": [],
   "source": [
    "G1, absences = np.array([dt['FINAL.MARK']]), np.array([dt['freq']])\n",
    "G1, absences = G1.reshape(-1,1), absences.reshape(-1,1)\n",
    "#b=df['G1'][:,np.newaxis]\n",
    "reg = LinearRegression().fit(absences, G1)\n",
    "r2 = reg.score(absences, G1) # Determination Coefficient\n",
    "r2_perc = r2*100"
   ]
  },
  {
   "cell_type": "code",
   "execution_count": 14,
   "id": "1ee187ae",
   "metadata": {},
   "outputs": [
    {
     "data": {
      "text/plain": [
       "[<matplotlib.lines.Line2D at 0x7f6c8f687850>]"
      ]
     },
     "execution_count": 14,
     "metadata": {},
     "output_type": "execute_result"
    },
    {
     "data": {
      "image/png": "[encoded data removed]",
      "text/plain": [
       "<Figure size 432x288 with 1 Axes>"
      ]
     },
     "metadata": {
      "needs_background": "light"
     },
     "output_type": "display_data"
    }
   ],
   "source": [
    "att_test = np.array([75, 0, 50, 73])\n",
    "att_test = att_test.reshape(-1,1)\n",
    "plt.scatter(dt['freq'], dt['FINAL.MARK'])\n",
    "plt.plot(absences, reg.predict(G1))"
   ]
  },
  {
   "cell_type": "code",
   "execution_count": 15,
   "id": "2ab17427",
   "metadata": {},
   "outputs": [
    {
     "name": "stdout",
     "output_type": "stream",
     "text": [
      "The determination coefficient calculated is: 0.2056 . Therefore, there is a: 20.5619 % chance that change in absence will lead to change in the final mark.\n"
     ]
    }
   ],
   "source": [
    "print('The determination coefficient calculated is: %.4f' % r2, '. Therefore, there is a: %.4f' %r2_perc,'% chance that change in absence will lead to change in the final mark.')"
   ]
  },
  {
   "cell_type": "markdown",
   "id": "e616e6fc",
   "metadata": {},
   "source": [
    "### Post-Hoc Games-Howell Test\n",
    "\n",
    "The ANOVA analysis of independent samples informs us if there is significant variability between means of two or more samples, however it does not indicate the degree of contribution for samples to the observed variability, for that we employ the Post-Hoc Test. This analysis is only used after the ANOVA, on three or more independent samples and when the Null Hypothesis is rejected. The Games-Howell method is employed when samples have unequal variances."
   ]
  },
  {
   "cell_type": "code",
   "execution_count": 16,
   "id": "f245893d",
   "metadata": {},
   "outputs": [
    {
     "name": "stdout",
     "output_type": "stream",
     "text": [
      "\n",
      "==============\n",
      "POST HOC TESTS\n",
      "==============\n",
      "\n",
      "     A       B    mean(A)    mean(B)     diff       se        T       df     pval    cohen\n",
      "------  ------  ---------  ---------  -------  -------  -------  -------  -------  -------\n",
      " 0.000   1.000     49.608     56.404   -6.796    1.876   -3.623  197.363    0.025   -0.450\n",
      " 0.000   2.000     49.608     59.059   -9.450    2.051   -4.607  164.989    0.001   -0.582\n",
      " 0.000   3.000     49.608     60.200  -10.592    1.923   -5.507  162.006    0.000   -0.729\n",
      " 0.000   4.000     49.608     62.851  -13.243    1.514   -8.749  311.888    0.000   -1.038\n",
      " 0.000   5.000     49.608     65.819  -16.211    1.612  -10.057  311.914    0.000   -1.137\n",
      " 0.000   6.000     49.608     68.099  -18.491    1.593  -11.609  268.688    0.000   -1.429\n",
      " 0.000   7.000     49.608     66.056  -16.447    1.537  -10.699  283.779    0.000   -1.322\n",
      " 0.000   8.000     49.608     68.323  -18.715    1.611  -11.615  203.560    0.000   -1.624\n",
      " 0.000   9.000     49.608     68.800  -19.192    1.846  -10.397   96.549    0.000   -1.776\n",
      " 0.000  10.000     49.608     68.583  -18.975    2.542   -7.464   35.919    0.000   -1.598\n",
      " 0.000  11.000     49.608     78.000  -28.392    2.820  -10.066   20.002    0.000   -2.679\n",
      " 0.000  12.000     49.608     74.667  -25.058    5.172   -4.845    2.211    0.203   -2.815\n",
      " 0.000  13.000     49.608     72.000  -22.392  nan      nan      nan      nan      nan\n",
      " 1.000   2.000     56.404     59.059   -2.654    2.261   -1.174  167.810    0.996   -0.178\n",
      " 1.000   3.000     56.404     60.200   -3.796    2.146   -1.769  159.470    0.886   -0.277\n",
      " 1.000   4.000     56.404     62.851   -6.447    1.788   -3.606  156.455    0.027   -0.524\n",
      " 1.000   5.000     56.404     65.819   -9.414    1.872   -5.030  175.064    0.000   -0.709\n",
      " 1.000   6.000     56.404     68.099  -11.694    1.855   -6.304  163.607    0.000   -0.940\n",
      " 1.000   7.000     56.404     66.056   -9.651    1.808   -5.339  156.757    0.000   -0.798\n",
      " 1.000   8.000     56.404     68.323  -11.919    1.871   -6.370  150.277    0.000   -1.039\n",
      " 1.000   9.000     56.404     68.800  -12.396    2.077   -5.969  110.222    0.000   -1.136\n",
      " 1.000  10.000     56.404     68.583  -12.179    2.714   -4.487   44.813    0.003   -1.032\n",
      " 1.000  11.000     56.404     78.000  -21.596    2.976   -7.255   24.436    0.000   -2.025\n",
      " 1.000  12.000     56.404     74.667  -18.262    5.259   -3.473    2.362    0.353   -2.038\n",
      " 1.000  13.000     56.404     72.000  -15.596  nan      nan      nan      nan      nan\n",
      " 2.000   3.000     59.059     60.200   -1.141    2.301   -0.496  157.829    1.000   -0.079\n",
      " 2.000   4.000     59.059     62.851   -3.793    1.971   -1.924  137.371    0.810   -0.283\n",
      " 2.000   5.000     59.059     65.819   -6.760    2.047   -3.302  153.237    0.068   -0.471\n",
      " 2.000   6.000     59.059     68.099   -9.040    2.032   -4.448  145.857    0.001   -0.671\n",
      " 2.000   7.000     59.059     66.056   -6.997    1.989   -3.517  138.918    0.037   -0.532\n",
      " 2.000   8.000     59.059     68.323   -9.264    2.047   -4.526  139.172    0.001   -0.746\n",
      " 2.000   9.000     59.059     68.800   -9.741    2.236   -4.356  117.266    0.002   -0.835\n",
      " 2.000  10.000     59.059     68.583   -9.525    2.838   -3.356   51.682    0.076   -0.776\n",
      " 2.000  11.000     59.059     78.000  -18.941    3.090   -6.130   27.995    0.000   -1.717\n",
      " 2.000  12.000     59.059     74.667  -15.608    5.324   -2.932    2.481    0.456   -1.722\n",
      " 2.000  13.000     59.059     72.000  -12.941  nan      nan      nan      nan      nan\n",
      " 3.000   4.000     60.200     62.851   -2.651    1.837   -1.443  130.999    0.975   -0.220\n",
      " 3.000   5.000     60.200     65.819   -5.619    1.919   -2.928  147.745    0.178   -0.434\n",
      " 3.000   6.000     60.200     68.099   -7.899    1.903   -4.151  139.368    0.004   -0.647\n",
      " 3.000   7.000     60.200     66.056   -5.856    1.857   -3.154  132.324    0.103   -0.493\n",
      " 3.000   8.000     60.200     68.323   -8.123    1.919   -4.234  131.196    0.003   -0.718\n",
      " 3.000   9.000     60.200     68.800   -8.600    2.119   -4.058  105.973    0.007   -0.794\n",
      " 3.000  10.000     60.200     68.583   -8.383    2.747   -3.052   46.200    0.157   -0.716\n",
      " 3.000  11.000     60.200     78.000  -17.800    3.007   -5.920   25.267    0.000   -1.675\n",
      " 3.000  12.000     60.200     74.667  -14.467    5.276   -2.742    2.393    0.508   -1.614\n",
      " 3.000  13.000     60.200     72.000  -11.800  nan      nan      nan      nan      nan\n",
      " 4.000   5.000     62.851     65.819   -2.967    1.508   -1.968  214.084    0.786   -0.268\n",
      " 4.000   6.000     62.851     68.099   -5.247    1.488   -3.527  185.025    0.034   -0.510\n",
      " 4.000   7.000     62.851     66.056   -3.204    1.428   -2.243  187.353    0.599   -0.325\n",
      " 4.000   8.000     62.851     68.323   -5.472    1.508   -3.629  144.941    0.026   -0.577\n",
      " 4.000   9.000     62.851     68.800   -5.949    1.756   -3.387   77.467    0.061   -0.633\n",
      " 4.000  10.000     62.851     68.583   -5.732    2.478   -2.313   32.345    0.558   -0.525\n",
      " 4.000  11.000     62.851     78.000  -15.149    2.763   -5.484   18.394    0.002   -1.517\n",
      " 4.000  12.000     62.851     74.667  -11.815    5.141   -2.298    2.158    0.642   -1.346\n",
      " 4.000  13.000     62.851     72.000   -9.149  nan      nan      nan      nan      nan\n",
      " 5.000   6.000     65.819     68.099   -2.280    1.588   -1.436  203.033    0.976   -0.201\n",
      " 5.000   7.000     65.819     66.056   -0.237    1.532   -0.154  203.845    1.000   -0.022\n",
      " 5.000   8.000     65.819     68.323   -2.504    1.606   -1.559  164.540    0.954   -0.242\n",
      " 5.000   9.000     65.819     68.800   -2.981    1.842   -1.619   90.130    0.937   -0.297\n",
      " 5.000  10.000     65.819     68.583   -2.764    2.539   -1.089   35.515    0.997   -0.244\n",
      " 5.000  11.000     65.819     78.000  -12.181    2.818   -4.323   19.874    0.017   -1.186\n",
      " 5.000  12.000     65.819     74.667   -8.848    5.171   -1.711    2.208    0.828   -1.001\n",
      " 5.000  13.000     65.819     72.000   -6.181  nan      nan      nan      nan      nan\n",
      " 6.000   7.000     68.099     66.056    2.043    1.512    1.352  178.116    0.986    0.201\n",
      " 6.000   8.000     68.099     68.323   -0.224    1.587   -0.141  148.351    1.000   -0.023\n",
      " 6.000   9.000     68.099     68.800   -0.701    1.825   -0.384   85.362    1.000   -0.073\n",
      " 6.000  10.000     68.099     68.583   -0.484    2.527   -0.192   34.776    1.000   -0.044\n",
      " 6.000  11.000     68.099     78.000   -9.901    2.807   -3.528   19.555    0.085   -0.983\n",
      " 6.000  12.000     68.099     74.667   -6.568    5.165   -1.272    2.198    0.945   -0.746\n",
      " 6.000  13.000     68.099     72.000   -3.901  nan      nan      nan      nan      nan\n",
      " 7.000   8.000     66.056     68.323   -2.268    1.531   -1.481  142.866    0.969   -0.241\n",
      " 7.000   9.000     66.056     68.800   -2.744    1.777   -1.545   79.294    0.955   -0.294\n",
      " 7.000  10.000     66.056     68.583   -2.528    2.492   -1.014   33.029    0.999   -0.233\n",
      " 7.000  11.000     66.056     78.000  -11.944    2.776   -4.303   18.727    0.019   -1.200\n",
      " 7.000  12.000     66.056     74.667   -8.611    5.148   -1.673    2.169    0.839   -0.982\n",
      " 7.000  13.000     66.056     72.000   -5.944  nan      nan      nan      nan      nan\n",
      " 8.000   9.000     68.323     68.800   -0.477    1.841   -0.259   82.601    1.000   -0.052\n",
      " 8.000  10.000     68.323     68.583   -0.260    2.539   -0.103   35.149    1.000   -0.024\n",
      " 8.000  11.000     68.323     78.000   -9.677    2.817   -3.435   19.793    0.100   -0.984\n",
      " 8.000  12.000     68.323     74.667   -6.344    5.170   -1.227    2.208    0.954   -0.725\n",
      " 8.000  13.000     68.323     72.000   -3.677  nan      nan      nan      nan      nan\n",
      " 9.000  10.000     68.800     68.583    0.217    2.694    0.080   41.495    1.000    0.021\n",
      " 9.000  11.000     68.800     78.000   -9.200    2.958   -3.111   23.405    0.169   -0.942\n",
      " 9.000  12.000     68.800     74.667   -5.867    5.248   -1.118    2.343    0.973   -0.669\n",
      " 9.000  13.000     68.800     72.000   -3.200  nan      nan      nan      nan      nan\n",
      "10.000  11.000     68.583     78.000   -9.417    3.436   -2.741   32.308    0.302   -0.902\n",
      "10.000  12.000     68.583     74.667   -6.083    5.532   -1.100    2.882    0.979   -0.673\n",
      "10.000  13.000     68.583     72.000   -3.417  nan      nan      nan      nan      nan\n",
      "11.000  12.000     78.000     74.667    3.333    5.665    0.588    3.151    1.000    0.372\n",
      "11.000  13.000     78.000     72.000    6.000  nan      nan      nan      nan      nan\n",
      "12.000  13.000     74.667     72.000    2.667  nan      nan      nan      nan      nan\n",
      "\n"
     ]
    }
   ],
   "source": [
    "# Games-Howell Post-Hoc\n",
    "#post_hocs = []\n",
    "if p < 0.05:\n",
    "    pst_hoc = pg.pairwise_gameshowell(data=dt, dv='FINAL.MARK', between='freq', effsize='cohen')\n",
    "    #post_hocs.append(pst_hoc)\n",
    "    pg.print_table(pst_hoc, floatfmt='.3f')\n",
    "else:\n",
    "    print('The One-Way ANOVA has completed running......','\\n','\\n', 'Important model output parameters are:', '\\n','\\n', '-Fstat: %.3f' %f_stat,'\\n',\n",
    "          '-p-value: %.3f' %p,'\\n', '-Effect Size [eta2]: %.3f' %eta2,'\\n', '-Determination coefficient: %.3f' %r2, '\\n','\\n',\n",
    "         'Therefore with p-value > 0.05 and only %.3f'%r2_perc,'% variability depence among our sample means, we accept the Null Hypothesis.')"
   ]
  },
  {
   "cell_type": "code",
   "execution_count": 17,
   "id": "1fd39021",
   "metadata": {},
   "outputs": [
    {
     "name": "stdout",
     "output_type": "stream",
     "text": [
      "   n        r  CI95%        p-val                                                       BF10    power\n",
      "----  -------  ---------  -------  ---------------------------------------------------------  -------\n",
      "1035  0.45345  [0.4 0.5]  0.00000  133700000000000003347170424273880453745113011585024.00000  1.00000\n",
      "\n"
     ]
    }
   ],
   "source": [
    "# Pearson's Correlation\n",
    "\n",
    "corr = pg.corr(dt['FINAL.MARK'], dt['freq'])\n",
    "pg.print_table(corr, floatfmt='.5f')"
   ]
  },
  {
   "cell_type": "code",
   "execution_count": 18,
   "id": "25639186",
   "metadata": {},
   "outputs": [
    {
     "name": "stdout",
     "output_type": "stream",
     "text": [
      "A statistically significant ( p-value: 1.3E-53 (<0.05)), medium positive linear correlation ( r: 0.453 ) is found between student marks and attendance.\n"
     ]
    }
   ],
   "source": [
    "p_val, r_corr = np.array(corr['p-val']), np.array(corr['r'])\n",
    "if p_val < 0.05:\n",
    "    if r_corr >= 0.8:\n",
    "        print('A statistically significant ( p-value: %.1E'%p_val,'(<0.05)), strong positive linear correlation ( r: %.3f'%r_corr,') is found between student marks and attendance.')\n",
    "    elif 0.3 < r_corr < 0.8:\n",
    "        print('A statistically significant ( p-value: %.1E'%p_val,'(<0.05)), medium positive linear correlation ( r: %.3f'%r_corr,') is found between student marks and attendance.')\n",
    "    elif 0.0 < r_corr <=0.3:\n",
    "        print('A statistically significant ( p-value: %.1E'%p_val,'(<0.05)), weak positive linear correlation ( r: %.3f'%r_corr,') is found between student marks and attendance.')\n",
    "    elif 0.0 > r_corr >=-0.3:\n",
    "        print('A statistically significant ( p-value: %.1E'%p_val,'(<0.05)), weak negative linear correlation ( r: %.3f'%r_corr,') is found between student marks and attendance.')\n",
    "    elif -0.3 > r_corr > -0.8:\n",
    "        print('A statistically significant ( p-value: %.1E'%p_val,'(<0.05)), medium negative linear correlation ( r: %.3f'%r_corr,') is found between student marks and attendance.')\n",
    "    elif r_corr >= -0.8:\n",
    "        print('A statistically significant ( p-value: %.1E'%p_val,'(<0.05)), strong negative linear correlation ( r: %.3f'%r_corr,') is found between student marks and attendance.')\n",
    "    else:\n",
    "        print('No linear correlation detected ( r: %.3f' %r_corr,') between student marks and attendance.')       \n",
    "elif p_val >= 0.05:\n",
    "    print('No statistically significant linear correlation was detected ( p-value: %.1E' %p_val,' < 0.05) between student marks and attendance.')\n",
    "        \n",
    "\n",
    " "
   ]
  },
  {
   "cell_type": "code",
   "execution_count": null,
   "id": "fb03346d",
   "metadata": {},
   "outputs": [],
   "source": []
  }
 ],
 "metadata": {
  "kernelspec": {
   "display_name": "Python 3",
   "language": "python",
   "name": "python3"
  },
  "language_info": {
   "codemirror_mode": {
    "name": "ipython",
    "version": 3
   },
   "file_extension": ".py",
   "mimetype": "text/x-python",
   "name": "python",
   "nbconvert_exporter": "python",
   "pygments_lexer": "ipython3",
   "version": "3.7.6"
  }
 },
 "nbformat": 4,
 "nbformat_minor": 5
}
